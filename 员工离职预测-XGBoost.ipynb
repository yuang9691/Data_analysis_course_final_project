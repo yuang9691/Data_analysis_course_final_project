{
 "cells": [
  {
   "cell_type": "code",
   "execution_count": 1,
   "id": "781d88d8",
   "metadata": {},
   "outputs": [],
   "source": [
    "import pandas as pd\n",
    "import numpy as np\n",
    "from sklearn.preprocessing import LabelEncoder\n",
    "from sklearn import model_selection\n",
    "#构建XGBOOst模型\n",
    "from xgboost.sklearn import XGBClassifier"
   ]
  },
  {
   "cell_type": "code",
   "execution_count": 2,
   "id": "b2e7bfd9",
   "metadata": {},
   "outputs": [
    {
     "data": {
      "text/html": [
       "<div>\n",
       "<style scoped>\n",
       "    .dataframe tbody tr th:only-of-type {\n",
       "        vertical-align: middle;\n",
       "    }\n",
       "\n",
       "    .dataframe tbody tr th {\n",
       "        vertical-align: top;\n",
       "    }\n",
       "\n",
       "    .dataframe thead th {\n",
       "        text-align: right;\n",
       "    }\n",
       "</style>\n",
       "<table border=\"1\" class=\"dataframe\">\n",
       "  <thead>\n",
       "    <tr style=\"text-align: right;\">\n",
       "      <th></th>\n",
       "      <th>Attrition</th>\n",
       "      <th>BusinessTravel</th>\n",
       "      <th>Department</th>\n",
       "      <th>EducationField</th>\n",
       "      <th>Gender</th>\n",
       "      <th>JobRole</th>\n",
       "      <th>MaritalStatus</th>\n",
       "      <th>OverTime</th>\n",
       "      <th>Income</th>\n",
       "      <th>Time</th>\n",
       "    </tr>\n",
       "  </thead>\n",
       "  <tbody>\n",
       "    <tr>\n",
       "      <th>0</th>\n",
       "      <td>0</td>\n",
       "      <td>Travel_Rarely</td>\n",
       "      <td>Research &amp; Development</td>\n",
       "      <td>Life Sciences</td>\n",
       "      <td>Male</td>\n",
       "      <td>Manufacturing Director</td>\n",
       "      <td>Divorced</td>\n",
       "      <td>No</td>\n",
       "      <td>5933.07</td>\n",
       "      <td>37.49</td>\n",
       "    </tr>\n",
       "    <tr>\n",
       "      <th>1</th>\n",
       "      <td>0</td>\n",
       "      <td>Travel_Frequently</td>\n",
       "      <td>Research &amp; Development</td>\n",
       "      <td>Life Sciences</td>\n",
       "      <td>Female</td>\n",
       "      <td>Manufacturing Director</td>\n",
       "      <td>Divorced</td>\n",
       "      <td>No</td>\n",
       "      <td>10396.98</td>\n",
       "      <td>62.46</td>\n",
       "    </tr>\n",
       "    <tr>\n",
       "      <th>2</th>\n",
       "      <td>1</td>\n",
       "      <td>Travel_Frequently</td>\n",
       "      <td>Research &amp; Development</td>\n",
       "      <td>Life Sciences</td>\n",
       "      <td>Male</td>\n",
       "      <td>Laboratory Technician</td>\n",
       "      <td>Single</td>\n",
       "      <td>Yes</td>\n",
       "      <td>6013.26</td>\n",
       "      <td>36.48</td>\n",
       "    </tr>\n",
       "  </tbody>\n",
       "</table>\n",
       "</div>"
      ],
      "text/plain": [
       "   Attrition     BusinessTravel              Department EducationField  \\\n",
       "0          0      Travel_Rarely  Research & Development  Life Sciences   \n",
       "1          0  Travel_Frequently  Research & Development  Life Sciences   \n",
       "2          1  Travel_Frequently  Research & Development  Life Sciences   \n",
       "\n",
       "   Gender                 JobRole MaritalStatus OverTime    Income   Time  \n",
       "0    Male  Manufacturing Director      Divorced       No   5933.07  37.49  \n",
       "1  Female  Manufacturing Director      Divorced       No  10396.98  62.46  \n",
       "2    Male   Laboratory Technician        Single      Yes   6013.26  36.48  "
      ]
     },
     "execution_count": 2,
     "metadata": {},
     "output_type": "execute_result"
    }
   ],
   "source": [
    "data = pd.read_csv(r\"C:\\Users\\zhouy\\Desktop\\数据科学技术与应用\\期末大论文\\df_pca.csv\")\n",
    "data.head(3)"
   ]
  },
  {
   "cell_type": "code",
   "execution_count": 3,
   "id": "369d20c4",
   "metadata": {},
   "outputs": [],
   "source": [
    "data=data.drop('Gender',axis=1)"
   ]
  },
  {
   "cell_type": "code",
   "execution_count": 4,
   "id": "794afe3e",
   "metadata": {},
   "outputs": [],
   "source": [
    "T=LabelEncoder() #初始化\n",
    "data[\"BusinessTravel\"]=T.fit_transform(data[\"BusinessTravel\"])\n",
    "data[\"Department\"]=T.fit_transform(data[\"Department\"])\n",
    "data[\"EducationField\"]=T.fit_transform(data[\"EducationField\"])\n",
    "#data[\"Gender\"]=T.fit_transform(data[\"Gender\"])\n",
    "data[\"JobRole\"]=T.fit_transform(data[\"JobRole\"])\n",
    "data[\"MaritalStatus\"]=T.fit_transform(data[\"MaritalStatus\"])\n",
    "data[\"OverTime\"]=T.fit_transform(data[\"OverTime\"])"
   ]
  },
  {
   "cell_type": "code",
   "execution_count": 5,
   "id": "0313fd7a",
   "metadata": {},
   "outputs": [],
   "source": [
    "#数据划分\n",
    "from sklearn import model_selection\n",
    "x=data.drop([\"Attrition\"],axis=1)#删除列\n",
    "y=data[\"Attrition\"]\n",
    "\n",
    "x_train,x_test,y_train,y_test=model_selection.train_test_split(x,y,\n",
    "        random_state=10,\n",
    "        test_size=0.3,\n",
    "        stratify=data[\"Attrition\"])#保持比例"
   ]
  },
  {
   "cell_type": "code",
   "execution_count": 6,
   "id": "da18f1f8",
   "metadata": {},
   "outputs": [],
   "source": [
    "xgbt=XGBClassifier(n_estimators=100,\n",
    "                  learning_rate=0.3,\n",
    "                  random_state=5,\n",
    "                  objective=\"binary:logistic\",#目标函数\n",
    "                  scale_pos_weight=100)#正样本权重\n",
    "xgbt.fit(x_train,y_train)\n",
    "y_pred_xgbt=xgbt.predict(x_test)"
   ]
  },
  {
   "cell_type": "code",
   "execution_count": 7,
   "id": "3c79505c",
   "metadata": {},
   "outputs": [
    {
     "name": "stdout",
     "output_type": "stream",
     "text": [
      "[[235  42]\n",
      " [ 35  18]]\n"
     ]
    }
   ],
   "source": [
    "from sklearn.metrics import classification_report,confusion_matrix\n",
    "confusion_matrix=confusion_matrix(y_test,y_pred_xgbt)\n",
    "print(confusion_matrix)"
   ]
  },
  {
   "cell_type": "code",
   "execution_count": 8,
   "id": "c965ee23",
   "metadata": {},
   "outputs": [
    {
     "name": "stdout",
     "output_type": "stream",
     "text": [
      "              precision    recall  f1-score   support\n",
      "\n",
      "           0       0.87      0.85      0.86       277\n",
      "           1       0.30      0.34      0.32        53\n",
      "\n",
      "    accuracy                           0.77       330\n",
      "   macro avg       0.59      0.59      0.59       330\n",
      "weighted avg       0.78      0.77      0.77       330\n",
      "\n"
     ]
    }
   ],
   "source": [
    "#输出评价报告和指标\n",
    "print(classification_report(y_test,y_pred_xgbt))"
   ]
  },
  {
   "cell_type": "code",
   "execution_count": 9,
   "id": "015f9998",
   "metadata": {},
   "outputs": [],
   "source": [
    "#网格搜素最佳参数\n",
    "from sklearn.model_selection import GridSearchCV\n",
    "param_grid=[{\"n_estimators\":[10,20,30,50],\"scale_pos_weight\":[50,100,200,500,1000,2000]}]\n",
    "grid_search=GridSearchCV(xgbt,param_grid,scoring=\"f1\")"
   ]
  },
  {
   "cell_type": "code",
   "execution_count": 10,
   "id": "3939fd9b",
   "metadata": {},
   "outputs": [
    {
     "name": "stdout",
     "output_type": "stream",
     "text": [
      "best params:  {'n_estimators': 50, 'scale_pos_weight': 50}\n",
      "best score:  0.41943054348911113\n"
     ]
    }
   ],
   "source": [
    "#输出最佳参数组合\n",
    "grid_search.fit(x,y)\n",
    "print(\"best params: \",grid_search.best_params_)\n",
    "print(\"best score: \",grid_search.best_score_)"
   ]
  },
  {
   "cell_type": "code",
   "execution_count": 11,
   "id": "18f56696",
   "metadata": {},
   "outputs": [
    {
     "name": "stdout",
     "output_type": "stream",
     "text": [
      "test precision: 0.679\n",
      "test recall: 1.000\n",
      "test f1-score: 0.809\n"
     ]
    }
   ],
   "source": [
    "#利用最佳参数组合，得到模型最终评价结果\n",
    "from sklearn.metrics import recall_score,precision_score,f1_score\n",
    "best_estimator=grid_search.best_estimator_\n",
    "print(\"test precision: {:.3f}\".format(precision_score(y_test,best_estimator.predict(x_test))))\n",
    "print(\"test recall: {:.3f}\".format(recall_score(y_test,best_estimator.predict(x_test))))\n",
    "print(\"test f1-score: {:.3f}\".format(f1_score(y_test,best_estimator.predict(x_test))))"
   ]
  },
  {
   "cell_type": "code",
   "execution_count": 12,
   "id": "ce03299b",
   "metadata": {},
   "outputs": [
    {
     "name": "stdout",
     "output_type": "stream",
     "text": [
      "              precision    recall  f1-score   support\n",
      "\n",
      "           0       1.00      0.91      0.95       277\n",
      "           1       0.68      1.00      0.81        53\n",
      "\n",
      "    accuracy                           0.92       330\n",
      "   macro avg       0.84      0.95      0.88       330\n",
      "weighted avg       0.95      0.92      0.93       330\n",
      "\n"
     ]
    }
   ],
   "source": [
    "#输出最佳参数组合后的测试集预测结果混淆矩阵\n",
    "print(classification_report(y_test,best_estimator.predict(x_test)))"
   ]
  },
  {
   "cell_type": "code",
   "execution_count": 13,
   "id": "78fe3b53",
   "metadata": {},
   "outputs": [],
   "source": [
    "y_pred_best=best_estimator.predict(x_test)"
   ]
  },
  {
   "cell_type": "code",
   "execution_count": 14,
   "id": "8d9db49c",
   "metadata": {},
   "outputs": [
    {
     "data": {
      "text/plain": [
       "array([0.12534565, 0.11648696, 0.09142315, 0.14540635, 0.12270748,\n",
       "       0.1836545 , 0.11023296, 0.10474287], dtype=float32)"
      ]
     },
     "execution_count": 14,
     "metadata": {},
     "output_type": "execute_result"
    }
   ],
   "source": [
    "best_estimator.feature_importances_"
   ]
  },
  {
   "cell_type": "code",
   "execution_count": 15,
   "id": "001701b5",
   "metadata": {},
   "outputs": [
    {
     "name": "stdout",
     "output_type": "stream",
     "text": [
      "[[252  25]\n",
      " [  0  53]]\n"
     ]
    }
   ],
   "source": [
    "from sklearn.metrics import classification_report,confusion_matrix\n",
    "confusion_matrix=confusion_matrix(y_test,y_pred_best)\n",
    "print(confusion_matrix)"
   ]
  },
  {
   "cell_type": "code",
   "execution_count": 16,
   "id": "e92ce0d5",
   "metadata": {},
   "outputs": [],
   "source": [
    "from sklearn.metrics import roc_curve\n",
    "import matplotlib.pyplot as plt\n",
    "\n",
    "from sklearn.metrics import auc"
   ]
  },
  {
   "cell_type": "code",
   "execution_count": 17,
   "id": "3a4f58a6",
   "metadata": {},
   "outputs": [
    {
     "data": {
      "image/png": "[encoded data removed]",
      "text/plain": [
       "<Figure size 640x480 with 1 Axes>"
      ]
     },
     "metadata": {},
     "output_type": "display_data"
    }
   ],
   "source": [
    "prob_predict_y_validation =best_estimator.predict_proba(x_test)\n",
    "predictions_validation = prob_predict_y_validation[:, 1]\n",
    "fpr, tpr, _ = roc_curve(y_test, predictions_validation)\n",
    "    #\n",
    "roc_auc = auc(fpr, tpr)\n",
    "plt.title('ROC Validation')\n",
    "plt.plot(fpr, tpr, 'b', label='AUC = %0.2f' % roc_auc)\n",
    "plt.legend(loc='lower right')\n",
    "plt.plot([0, 1], [0, 1], 'r--')\n",
    "plt.xlim([0, 1])\n",
    "plt.ylim([0, 1])\n",
    "plt.ylabel('True Positive Rate')\n",
    "plt.xlabel('False Positive Rate')\n",
    "plt.show()\n",
    "\n"
   ]
  },
  {
   "cell_type": "code",
   "execution_count": null,
   "id": "e2185eaa",
   "metadata": {},
   "outputs": [],
   "source": []
  }
 ],
 "metadata": {
  "kernelspec": {
   "display_name": "Python 3 (ipykernel)",
   "language": "python",
   "name": "python3"
  },
  "language_info": {
   "codemirror_mode": {
    "name": "ipython",
    "version": 3
   },
   "file_extension": ".py",
   "mimetype": "text/x-python",
   "name": "python",
   "nbconvert_exporter": "python",
   "pygments_lexer": "ipython3",
   "version": "3.9.12"
  }
 },
 "nbformat": 4,
 "nbformat_minor": 5
}
