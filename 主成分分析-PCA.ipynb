{
 "cells": [
  {
   "cell_type": "code",
   "execution_count": 1,
   "id": "9a9eeb67",
   "metadata": {},
   "outputs": [],
   "source": [
    "import pandas as pd\n",
    "import numpy as np"
   ]
  },
  {
   "cell_type": "code",
   "execution_count": 18,
   "id": "f57b914a",
   "metadata": {},
   "outputs": [],
   "source": [
    "#读取员工离职预测数据\n",
    "df = pd.read_csv(r\"C:\\Users\\zhouy\\Desktop\\数据科学技术与应用\\员工离职预测训练赛\\pfm_train.csv\",delimiter=',')"
   ]
  },
  {
   "cell_type": "code",
   "execution_count": 3,
   "id": "3de81c25",
   "metadata": {},
   "outputs": [],
   "source": [
    "#数据降维：剔除无关变量“EmployeeNumber”(员工号码)、“Over18”（年龄是否超过18）、“StandardHours”（标准工时）\n",
    "df = df.drop(['EmployeeNumber','Over18','StandardHours'],axis=1)"
   ]
  },
  {
   "cell_type": "code",
   "execution_count": 4,
   "id": "791ee24a",
   "metadata": {},
   "outputs": [],
   "source": [
    "data = df[['TotalWorkingYears', 'MonthlyIncome', 'JobLevel', 'Age',\n",
    "       'YearsAtCompany', 'YearsInCurrentRole', 'StockOptionLevel',\n",
    "       'YearsWithCurrManager', 'JobSatisfaction', 'JobInvolvement','Attrition']].copy()"
   ]
  },
  {
   "cell_type": "code",
   "execution_count": 4,
   "id": "c592347e",
   "metadata": {},
   "outputs": [],
   "source": [
    "data_x = df[['TotalWorkingYears', 'MonthlyIncome', 'JobLevel', 'Age',\n",
    "       'YearsAtCompany', 'YearsInCurrentRole', 'StockOptionLevel',\n",
    "       'YearsWithCurrManager', 'JobSatisfaction', 'JobInvolvement']].copy()"
   ]
  },
  {
   "cell_type": "code",
   "execution_count": 5,
   "id": "8d186f42",
   "metadata": {},
   "outputs": [
    {
     "data": {
      "text/html": [
       "<div>\n",
       "<style scoped>\n",
       "    .dataframe tbody tr th:only-of-type {\n",
       "        vertical-align: middle;\n",
       "    }\n",
       "\n",
       "    .dataframe tbody tr th {\n",
       "        vertical-align: top;\n",
       "    }\n",
       "\n",
       "    .dataframe thead th {\n",
       "        text-align: right;\n",
       "    }\n",
       "</style>\n",
       "<table border=\"1\" class=\"dataframe\">\n",
       "  <thead>\n",
       "    <tr style=\"text-align: right;\">\n",
       "      <th></th>\n",
       "      <th>TotalWorkingYears</th>\n",
       "      <th>MonthlyIncome</th>\n",
       "      <th>JobLevel</th>\n",
       "      <th>Age</th>\n",
       "      <th>YearsAtCompany</th>\n",
       "      <th>YearsInCurrentRole</th>\n",
       "      <th>StockOptionLevel</th>\n",
       "      <th>YearsWithCurrManager</th>\n",
       "      <th>JobSatisfaction</th>\n",
       "      <th>JobInvolvement</th>\n",
       "      <th>Attrition</th>\n",
       "    </tr>\n",
       "  </thead>\n",
       "  <tbody>\n",
       "    <tr>\n",
       "      <th>0</th>\n",
       "      <td>7</td>\n",
       "      <td>5993</td>\n",
       "      <td>2</td>\n",
       "      <td>37</td>\n",
       "      <td>7</td>\n",
       "      <td>5</td>\n",
       "      <td>1</td>\n",
       "      <td>7</td>\n",
       "      <td>3</td>\n",
       "      <td>2</td>\n",
       "      <td>0</td>\n",
       "    </tr>\n",
       "    <tr>\n",
       "      <th>1</th>\n",
       "      <td>33</td>\n",
       "      <td>10502</td>\n",
       "      <td>3</td>\n",
       "      <td>54</td>\n",
       "      <td>5</td>\n",
       "      <td>4</td>\n",
       "      <td>1</td>\n",
       "      <td>4</td>\n",
       "      <td>3</td>\n",
       "      <td>3</td>\n",
       "      <td>0</td>\n",
       "    </tr>\n",
       "    <tr>\n",
       "      <th>2</th>\n",
       "      <td>9</td>\n",
       "      <td>6074</td>\n",
       "      <td>2</td>\n",
       "      <td>34</td>\n",
       "      <td>9</td>\n",
       "      <td>7</td>\n",
       "      <td>0</td>\n",
       "      <td>6</td>\n",
       "      <td>3</td>\n",
       "      <td>1</td>\n",
       "      <td>1</td>\n",
       "    </tr>\n",
       "  </tbody>\n",
       "</table>\n",
       "</div>"
      ],
      "text/plain": [
       "   TotalWorkingYears  MonthlyIncome  JobLevel  Age  YearsAtCompany  \\\n",
       "0                  7           5993         2   37               7   \n",
       "1                 33          10502         3   54               5   \n",
       "2                  9           6074         2   34               9   \n",
       "\n",
       "   YearsInCurrentRole  StockOptionLevel  YearsWithCurrManager  \\\n",
       "0                   5                 1                     7   \n",
       "1                   4                 1                     4   \n",
       "2                   7                 0                     6   \n",
       "\n",
       "   JobSatisfaction  JobInvolvement  Attrition  \n",
       "0                3               2          0  \n",
       "1                3               3          0  \n",
       "2                3               1          1  "
      ]
     },
     "execution_count": 5,
     "metadata": {},
     "output_type": "execute_result"
    }
   ],
   "source": [
    "data.head(3)"
   ]
  },
  {
   "cell_type": "code",
   "execution_count": 6,
   "id": "7e761a01",
   "metadata": {},
   "outputs": [],
   "source": [
    "X = data.iloc[:,0:10].values.astype(float)"
   ]
  },
  {
   "cell_type": "code",
   "execution_count": 1,
   "id": "333720b5",
   "metadata": {},
   "outputs": [
    {
     "ename": "NameError",
     "evalue": "name 'X' is not defined",
     "output_type": "error",
     "traceback": [
      "\u001b[1;31m---------------------------------------------------------------------------\u001b[0m",
      "\u001b[1;31mNameError\u001b[0m                                 Traceback (most recent call last)",
      "Cell \u001b[1;32mIn [1], line 3\u001b[0m\n\u001b[0;32m      1\u001b[0m \u001b[38;5;28;01mfrom\u001b[39;00m \u001b[38;5;21;01msklearn\u001b[39;00m\u001b[38;5;21;01m.\u001b[39;00m\u001b[38;5;21;01mdecomposition\u001b[39;00m \u001b[38;5;28;01mimport\u001b[39;00m PCA\n\u001b[0;32m      2\u001b[0m pca\u001b[38;5;241m=\u001b[39mPCA(n_components\u001b[38;5;241m=\u001b[39m\u001b[38;5;241m1\u001b[39m)   \u001b[38;5;66;03m#模型初始化,提取2个成分\u001b[39;00m\n\u001b[1;32m----> 3\u001b[0m pca\u001b[38;5;241m.\u001b[39mfit(\u001b[43mX\u001b[49m)\n",
      "\u001b[1;31mNameError\u001b[0m: name 'X' is not defined"
     ]
    }
   ],
   "source": [
    "#模型初始化,提取2个成分\n",
    "from sklearn.decomposition import PCA\n",
    "pca=PCA(n_components=2)   \n",
    "pca.fit(X)"
   ]
  },
  {
   "cell_type": "code",
   "execution_count": 14,
   "id": "d06f1545",
   "metadata": {},
   "outputs": [
    {
     "name": "stdout",
     "output_type": "stream",
     "text": [
      "[[ 1.28129092e-03  9.99998380e-01  2.23373775e-04  9.58603552e-04\n",
      "   6.87126768e-04  2.97844061e-04 -1.13038532e-06  2.62670191e-04\n",
      "  -2.29508020e-06  9.15982524e-07]\n",
      " [ 4.46237572e-01 -1.62258684e-03  8.76241438e-03  8.40165628e-01\n",
      "   2.54410251e-01  1.18768327e-01  7.43034982e-04  1.26730208e-01\n",
      "  -1.24241991e-03  4.60453324e-03]]\n",
      "[2.22340641e+07 7.39267896e+01]\n",
      "[9.99993735e-01 3.32491290e-06]\n"
     ]
    }
   ],
   "source": [
    "print(pca.components_)                 #提取出的主成分\n",
    "print(pca.explained_variance_)       #降维后主成分方差,特征值\n",
    "print(pca.explained_variance_ratio_)  #主成分方差占比"
   ]
  },
  {
   "cell_type": "code",
   "execution_count": 8,
   "id": "fdc92e95",
   "metadata": {},
   "outputs": [
    {
     "data": {
      "text/plain": [
       "array([[-4.90624553e+02, -6.35446814e-01],\n",
       "       [ 4.01841552e+03,  1.69388892e+01],\n",
       "       [-4.09623290e+02, -1.78061871e+00],\n",
       "       ...,\n",
       "       [-1.49629995e+02, -3.30294534e+00],\n",
       "       [-4.01164858e+03, -1.32133015e+01],\n",
       "       [-4.44163515e+03, -5.92193577e+00]])"
      ]
     },
     "execution_count": 8,
     "metadata": {},
     "output_type": "execute_result"
    }
   ],
   "source": [
    "#十维变两维\n",
    "X_new=pca.transform(X)\n",
    "X_new"
   ]
  },
  {
   "cell_type": "code",
   "execution_count": 31,
   "id": "1e09b972",
   "metadata": {},
   "outputs": [],
   "source": [
    "y = data['Attrition'].values.astype(int)"
   ]
  },
  {
   "cell_type": "code",
   "execution_count": 32,
   "id": "d916872c",
   "metadata": {},
   "outputs": [
    {
     "data": {
      "image/png": "[encoded data removed]",
      "text/plain": [
       "<Figure size 640x480 with 1 Axes>"
      ]
     },
     "metadata": {},
     "output_type": "display_data"
    }
   ],
   "source": [
    "#绘制散点图，虽然效果不好，但是还有重要的离散变量没有考虑，所以直接从后面的模型预测结果来看整体\n",
    "import matplotlib.pyplot as plt\n",
    "colors=[\"b\",\"r\"]\n",
    "for i in range(2):\n",
    "    cl=X_new[y==i]\n",
    "    plt.scatter(cl[:,0],cl[:,1],c=colors[i])"
   ]
  },
  {
   "cell_type": "code",
   "execution_count": 9,
   "id": "5ca5be77",
   "metadata": {},
   "outputs": [],
   "source": [
    "#将PCA后的数据重新保存\n",
    "data['Income'] = 0.99*data.MonthlyIncome\n",
    "data['Time'] = 0.45*data.TotalWorkingYears+0.84*data.Age+0.25*data.YearsAtCompany+0.12*data.YearsInCurrentRole+0.13*data.YearsWithCurrManager"
   ]
  },
  {
   "cell_type": "code",
   "execution_count": 10,
   "id": "2050f65d",
   "metadata": {},
   "outputs": [
    {
     "data": {
      "text/html": [
       "<div>\n",
       "<style scoped>\n",
       "    .dataframe tbody tr th:only-of-type {\n",
       "        vertical-align: middle;\n",
       "    }\n",
       "\n",
       "    .dataframe tbody tr th {\n",
       "        vertical-align: top;\n",
       "    }\n",
       "\n",
       "    .dataframe thead th {\n",
       "        text-align: right;\n",
       "    }\n",
       "</style>\n",
       "<table border=\"1\" class=\"dataframe\">\n",
       "  <thead>\n",
       "    <tr style=\"text-align: right;\">\n",
       "      <th></th>\n",
       "      <th>TotalWorkingYears</th>\n",
       "      <th>MonthlyIncome</th>\n",
       "      <th>JobLevel</th>\n",
       "      <th>Age</th>\n",
       "      <th>YearsAtCompany</th>\n",
       "      <th>YearsInCurrentRole</th>\n",
       "      <th>StockOptionLevel</th>\n",
       "      <th>YearsWithCurrManager</th>\n",
       "      <th>JobSatisfaction</th>\n",
       "      <th>JobInvolvement</th>\n",
       "      <th>Attrition</th>\n",
       "      <th>Income</th>\n",
       "      <th>Time</th>\n",
       "    </tr>\n",
       "  </thead>\n",
       "  <tbody>\n",
       "    <tr>\n",
       "      <th>0</th>\n",
       "      <td>7</td>\n",
       "      <td>5993</td>\n",
       "      <td>2</td>\n",
       "      <td>37</td>\n",
       "      <td>7</td>\n",
       "      <td>5</td>\n",
       "      <td>1</td>\n",
       "      <td>7</td>\n",
       "      <td>3</td>\n",
       "      <td>2</td>\n",
       "      <td>0</td>\n",
       "      <td>5933.07</td>\n",
       "      <td>37.49</td>\n",
       "    </tr>\n",
       "    <tr>\n",
       "      <th>1</th>\n",
       "      <td>33</td>\n",
       "      <td>10502</td>\n",
       "      <td>3</td>\n",
       "      <td>54</td>\n",
       "      <td>5</td>\n",
       "      <td>4</td>\n",
       "      <td>1</td>\n",
       "      <td>4</td>\n",
       "      <td>3</td>\n",
       "      <td>3</td>\n",
       "      <td>0</td>\n",
       "      <td>10396.98</td>\n",
       "      <td>62.46</td>\n",
       "    </tr>\n",
       "    <tr>\n",
       "      <th>2</th>\n",
       "      <td>9</td>\n",
       "      <td>6074</td>\n",
       "      <td>2</td>\n",
       "      <td>34</td>\n",
       "      <td>9</td>\n",
       "      <td>7</td>\n",
       "      <td>0</td>\n",
       "      <td>6</td>\n",
       "      <td>3</td>\n",
       "      <td>1</td>\n",
       "      <td>1</td>\n",
       "      <td>6013.26</td>\n",
       "      <td>36.48</td>\n",
       "    </tr>\n",
       "  </tbody>\n",
       "</table>\n",
       "</div>"
      ],
      "text/plain": [
       "   TotalWorkingYears  MonthlyIncome  JobLevel  Age  YearsAtCompany  \\\n",
       "0                  7           5993         2   37               7   \n",
       "1                 33          10502         3   54               5   \n",
       "2                  9           6074         2   34               9   \n",
       "\n",
       "   YearsInCurrentRole  StockOptionLevel  YearsWithCurrManager  \\\n",
       "0                   5                 1                     7   \n",
       "1                   4                 1                     4   \n",
       "2                   7                 0                     6   \n",
       "\n",
       "   JobSatisfaction  JobInvolvement  Attrition    Income   Time  \n",
       "0                3               2          0   5933.07  37.49  \n",
       "1                3               3          0  10396.98  62.46  \n",
       "2                3               1          1   6013.26  36.48  "
      ]
     },
     "execution_count": 10,
     "metadata": {},
     "output_type": "execute_result"
    }
   ],
   "source": [
    "data.head(3)"
   ]
  },
  {
   "cell_type": "code",
   "execution_count": 11,
   "id": "e5773eaa",
   "metadata": {},
   "outputs": [
    {
     "data": {
      "text/plain": [
       "(1100, 13)"
      ]
     },
     "execution_count": 11,
     "metadata": {},
     "output_type": "execute_result"
    }
   ],
   "source": [
    "data.shape"
   ]
  },
  {
   "cell_type": "code",
   "execution_count": 15,
   "id": "8efe9408",
   "metadata": {},
   "outputs": [
    {
     "data": {
      "text/html": [
       "<div>\n",
       "<style scoped>\n",
       "    .dataframe tbody tr th:only-of-type {\n",
       "        vertical-align: middle;\n",
       "    }\n",
       "\n",
       "    .dataframe tbody tr th {\n",
       "        vertical-align: top;\n",
       "    }\n",
       "\n",
       "    .dataframe thead th {\n",
       "        text-align: right;\n",
       "    }\n",
       "</style>\n",
       "<table border=\"1\" class=\"dataframe\">\n",
       "  <thead>\n",
       "    <tr style=\"text-align: right;\">\n",
       "      <th></th>\n",
       "      <th>Attrition</th>\n",
       "      <th>Income</th>\n",
       "      <th>Time</th>\n",
       "      <th>index</th>\n",
       "    </tr>\n",
       "  </thead>\n",
       "  <tbody>\n",
       "    <tr>\n",
       "      <th>1097</th>\n",
       "      <td>0</td>\n",
       "      <td>6270.66</td>\n",
       "      <td>35.38</td>\n",
       "      <td>1097</td>\n",
       "    </tr>\n",
       "    <tr>\n",
       "      <th>1098</th>\n",
       "      <td>1</td>\n",
       "      <td>2447.28</td>\n",
       "      <td>19.18</td>\n",
       "      <td>1098</td>\n",
       "    </tr>\n",
       "    <tr>\n",
       "      <th>1099</th>\n",
       "      <td>1</td>\n",
       "      <td>2021.58</td>\n",
       "      <td>25.79</td>\n",
       "      <td>1099</td>\n",
       "    </tr>\n",
       "  </tbody>\n",
       "</table>\n",
       "</div>"
      ],
      "text/plain": [
       "      Attrition   Income   Time  index\n",
       "1097          0  6270.66  35.38   1097\n",
       "1098          1  2447.28  19.18   1098\n",
       "1099          1  2021.58  25.79   1099"
      ]
     },
     "execution_count": 15,
     "metadata": {},
     "output_type": "execute_result"
    }
   ],
   "source": [
    "train_pca = data[['Attrition','Income','Time']].copy()\n",
    "train_pca['index'] = pd.Series(np.arange(1100))\n",
    "train_pca.tail(3)"
   ]
  },
  {
   "cell_type": "code",
   "execution_count": 16,
   "id": "89453af7",
   "metadata": {},
   "outputs": [],
   "source": [
    "#数据：两个主成分+label\n",
    "train_pca.to_csv('train_pca.csv',index=False)"
   ]
  },
  {
   "cell_type": "code",
   "execution_count": 37,
   "id": "67a756e1",
   "metadata": {},
   "outputs": [],
   "source": [
    "df['Income'] = 0.99*df.MonthlyIncome\n",
    "df['Time'] = 0.45*df.TotalWorkingYears+0.84*df.Age+0.25*df.YearsAtCompany+0.12*df.YearsInCurrentRole+0.13*df.YearsWithCurrManager"
   ]
  },
  {
   "cell_type": "code",
   "execution_count": 40,
   "id": "ea0d7b0c",
   "metadata": {},
   "outputs": [],
   "source": [
    "df_pca = df.drop(['TotalWorkingYears', 'MonthlyIncome', 'JobLevel', 'Age',\n",
    "       'YearsAtCompany', 'YearsInCurrentRole', 'StockOptionLevel',\n",
    "       'YearsWithCurrManager', 'JobSatisfaction', 'JobInvolvement','DistanceFromHome','Education','EnvironmentSatisfaction',\\\n",
    "                 'NumCompaniesWorked','PercentSalaryHike','PerformanceRating','RelationshipSatisfaction','TrainingTimesLastYear',\\\n",
    "                 'WorkLifeBalance','YearsSinceLastPromotion'],axis=1)"
   ]
  },
  {
   "cell_type": "code",
   "execution_count": 41,
   "id": "4394c775",
   "metadata": {},
   "outputs": [],
   "source": [
    "#保存数据：7个原始离散变量+两个主成分+label，用在决策树\n",
    "df_pca.to_csv('df_pca.csv',index=False)"
   ]
  },
  {
   "cell_type": "code",
   "execution_count": 42,
   "id": "08f2d156",
   "metadata": {},
   "outputs": [
    {
     "data": {
      "text/plain": [
       "(1100, 10)"
      ]
     },
     "execution_count": 42,
     "metadata": {},
     "output_type": "execute_result"
    }
   ],
   "source": [
    "df_pca.shape"
   ]
  },
  {
   "cell_type": "markdown",
   "id": "17522616",
   "metadata": {},
   "source": [
    "### 离散数据卡方检验"
   ]
  },
  {
   "cell_type": "code",
   "execution_count": 15,
   "id": "29165ede",
   "metadata": {},
   "outputs": [],
   "source": [
    "from  scipy.stats import chi2_contingency"
   ]
  },
  {
   "cell_type": "code",
   "execution_count": 20,
   "id": "de5603ab",
   "metadata": {
    "collapsed": true
   },
   "outputs": [
    {
     "data": {
      "text/html": [
       "<div>\n",
       "<style scoped>\n",
       "    .dataframe tbody tr th:only-of-type {\n",
       "        vertical-align: middle;\n",
       "    }\n",
       "\n",
       "    .dataframe tbody tr th {\n",
       "        vertical-align: top;\n",
       "    }\n",
       "\n",
       "    .dataframe thead th {\n",
       "        text-align: right;\n",
       "    }\n",
       "</style>\n",
       "<table border=\"1\" class=\"dataframe\">\n",
       "  <thead>\n",
       "    <tr style=\"text-align: right;\">\n",
       "      <th>Attrition</th>\n",
       "      <th>0</th>\n",
       "      <th>1</th>\n",
       "    </tr>\n",
       "    <tr>\n",
       "      <th>JobRole</th>\n",
       "      <th></th>\n",
       "      <th></th>\n",
       "    </tr>\n",
       "  </thead>\n",
       "  <tbody>\n",
       "    <tr>\n",
       "      <th>Healthcare Representative</th>\n",
       "      <td>95</td>\n",
       "      <td>5</td>\n",
       "    </tr>\n",
       "    <tr>\n",
       "      <th>Human Resources</th>\n",
       "      <td>24</td>\n",
       "      <td>9</td>\n",
       "    </tr>\n",
       "    <tr>\n",
       "      <th>Laboratory Technician</th>\n",
       "      <td>162</td>\n",
       "      <td>43</td>\n",
       "    </tr>\n",
       "    <tr>\n",
       "      <th>Manager</th>\n",
       "      <td>75</td>\n",
       "      <td>5</td>\n",
       "    </tr>\n",
       "    <tr>\n",
       "      <th>Manufacturing Director</th>\n",
       "      <td>93</td>\n",
       "      <td>8</td>\n",
       "    </tr>\n",
       "    <tr>\n",
       "      <th>Research Director</th>\n",
       "      <td>54</td>\n",
       "      <td>2</td>\n",
       "    </tr>\n",
       "    <tr>\n",
       "      <th>Research Scientist</th>\n",
       "      <td>180</td>\n",
       "      <td>41</td>\n",
       "    </tr>\n",
       "    <tr>\n",
       "      <th>Sales Executive</th>\n",
       "      <td>205</td>\n",
       "      <td>42</td>\n",
       "    </tr>\n",
       "    <tr>\n",
       "      <th>Sales Representative</th>\n",
       "      <td>34</td>\n",
       "      <td>23</td>\n",
       "    </tr>\n",
       "  </tbody>\n",
       "</table>\n",
       "</div>"
      ],
      "text/plain": [
       "Attrition                    0   1\n",
       "JobRole                           \n",
       "Healthcare Representative   95   5\n",
       "Human Resources             24   9\n",
       "Laboratory Technician      162  43\n",
       "Manager                     75   5\n",
       "Manufacturing Director      93   8\n",
       "Research Director           54   2\n",
       "Research Scientist         180  41\n",
       "Sales Executive            205  42\n",
       "Sales Representative        34  23"
      ]
     },
     "execution_count": 20,
     "metadata": {},
     "output_type": "execute_result"
    }
   ],
   "source": [
    "table1 = pd.crosstab(df['JobRole'],df['Attrition'])\n",
    "table1"
   ]
  },
  {
   "cell_type": "code",
   "execution_count": 21,
   "id": "04e82605",
   "metadata": {},
   "outputs": [
    {
     "name": "stdout",
     "output_type": "stream",
     "text": [
      "(58.73752572479258, 8.239099007103527e-10, 8, array([[ 83.81818182,  16.18181818],\n",
      "       [ 27.66      ,   5.34      ],\n",
      "       [171.82727273,  33.17272727],\n",
      "       [ 67.05454545,  12.94545455],\n",
      "       [ 84.65636364,  16.34363636],\n",
      "       [ 46.93818182,   9.06181818],\n",
      "       [185.23818182,  35.76181818],\n",
      "       [207.03090909,  39.96909091],\n",
      "       [ 47.77636364,   9.22363636]]))\n"
     ]
    }
   ],
   "source": [
    "result1 = chi2_contingency(table1)#卡方检验函数\n",
    "print(result1)"
   ]
  },
  {
   "cell_type": "code",
   "execution_count": 22,
   "id": "18643ff7",
   "metadata": {
    "collapsed": true
   },
   "outputs": [
    {
     "data": {
      "text/html": [
       "<div>\n",
       "<style scoped>\n",
       "    .dataframe tbody tr th:only-of-type {\n",
       "        vertical-align: middle;\n",
       "    }\n",
       "\n",
       "    .dataframe tbody tr th {\n",
       "        vertical-align: top;\n",
       "    }\n",
       "\n",
       "    .dataframe thead th {\n",
       "        text-align: right;\n",
       "    }\n",
       "</style>\n",
       "<table border=\"1\" class=\"dataframe\">\n",
       "  <thead>\n",
       "    <tr style=\"text-align: right;\">\n",
       "      <th>Attrition</th>\n",
       "      <th>0</th>\n",
       "      <th>1</th>\n",
       "    </tr>\n",
       "    <tr>\n",
       "      <th>Department</th>\n",
       "      <th></th>\n",
       "      <th></th>\n",
       "    </tr>\n",
       "  </thead>\n",
       "  <tbody>\n",
       "    <tr>\n",
       "      <th>Human Resources</th>\n",
       "      <td>33</td>\n",
       "      <td>9</td>\n",
       "    </tr>\n",
       "    <tr>\n",
       "      <th>Research &amp; Development</th>\n",
       "      <td>625</td>\n",
       "      <td>102</td>\n",
       "    </tr>\n",
       "    <tr>\n",
       "      <th>Sales</th>\n",
       "      <td>264</td>\n",
       "      <td>67</td>\n",
       "    </tr>\n",
       "  </tbody>\n",
       "</table>\n",
       "</div>"
      ],
      "text/plain": [
       "Attrition                 0    1\n",
       "Department                      \n",
       "Human Resources          33    9\n",
       "Research & Development  625  102\n",
       "Sales                   264   67"
      ]
     },
     "execution_count": 22,
     "metadata": {},
     "output_type": "execute_result"
    }
   ],
   "source": [
    "table2 = pd.crosstab(df['Department'],df['Attrition'])\n",
    "table2"
   ]
  },
  {
   "cell_type": "code",
   "execution_count": 23,
   "id": "0b10041c",
   "metadata": {},
   "outputs": [
    {
     "name": "stdout",
     "output_type": "stream",
     "text": [
      "(7.356135668180397, 0.02527175691971158, 2, array([[ 35.20363636,   6.79636364],\n",
      "       [609.35818182, 117.64181818],\n",
      "       [277.43818182,  53.56181818]]))\n"
     ]
    }
   ],
   "source": [
    "result2 = chi2_contingency(table2)#卡方检验函数\n",
    "print(result2)"
   ]
  },
  {
   "cell_type": "code",
   "execution_count": 24,
   "id": "3f302266",
   "metadata": {},
   "outputs": [
    {
     "name": "stdout",
     "output_type": "stream",
     "text": [
      "(10.99989141938683, 0.004086993316561267, 2, array([[ 90.52363636,  17.47636364],\n",
      "       [171.82727273,  33.17272727],\n",
      "       [659.64909091, 127.35090909]]))\n"
     ]
    }
   ],
   "source": [
    "table3 = pd.crosstab(df['BusinessTravel'],df['Attrition'])\n",
    "#table3\n",
    "result3 = chi2_contingency(table3)#卡方检验函数\n",
    "print(result3)"
   ]
  },
  {
   "cell_type": "code",
   "execution_count": 27,
   "id": "f653afb0",
   "metadata": {},
   "outputs": [
    {
     "name": "stdout",
     "output_type": "stream",
     "text": [
      "(12.938568859121506, 0.023961295777270884, 5, array([[ 15.92545455,   3.07454545],\n",
      "       [387.24      ,  74.76      ],\n",
      "       [106.44909091,  20.55090909],\n",
      "       [282.46727273,  54.53272727],\n",
      "       [ 52.80545455,  10.19454545],\n",
      "       [ 77.11272727,  14.88727273]]))\n"
     ]
    }
   ],
   "source": [
    "table4 = pd.crosstab(df['EducationField'],df['Attrition'])\n",
    "\n",
    "result4 = chi2_contingency(table4)#卡方检验函数\n",
    "print(result4)"
   ]
  },
  {
   "cell_type": "code",
   "execution_count": 28,
   "id": "05a4dd47",
   "metadata": {},
   "outputs": [
    {
     "name": "stdout",
     "output_type": "stream",
     "text": [
      "(39.27373565955939, 2.9635800301638634e-09, 2, array([[199.48727273,  38.51272727],\n",
      "       [419.09090909,  80.90909091],\n",
      "       [303.42181818,  58.57818182]]))\n"
     ]
    }
   ],
   "source": [
    "table5 = pd.crosstab(df['MaritalStatus'],df['Attrition'])\n",
    "\n",
    "result5= chi2_contingency(table5)#卡方检验函数\n",
    "print(result5)"
   ]
  },
  {
   "cell_type": "code",
   "execution_count": 29,
   "id": "9d8ab3a6",
   "metadata": {},
   "outputs": [
    {
     "name": "stdout",
     "output_type": "stream",
     "text": [
      "(76.85489217426525, 1.8399188770234625e-18, 1, array([[665.51636364, 128.48363636],\n",
      "       [256.48363636,  49.51636364]]))\n"
     ]
    }
   ],
   "source": [
    "table6 = pd.crosstab(df['OverTime'],df['Attrition'])\n",
    "\n",
    "result6= chi2_contingency(table6)#卡方检验函数\n",
    "print(result6)"
   ]
  },
  {
   "cell_type": "code",
   "execution_count": 30,
   "id": "830ff41b",
   "metadata": {},
   "outputs": [
    {
     "name": "stdout",
     "output_type": "stream",
     "text": [
      "(0.22295435268145092, 0.6367980114960254, 1, array([[374.66727273,  72.33272727],\n",
      "       [547.33272727, 105.66727273]]))\n"
     ]
    }
   ],
   "source": [
    "table7 = pd.crosstab(df['Gender'],df['Attrition'])\n",
    "\n",
    "result7= chi2_contingency(table7)#卡方检验函数\n",
    "print(result7)"
   ]
  },
  {
   "cell_type": "markdown",
   "id": "dac569f0",
   "metadata": {},
   "source": [
    "### 对离散数据one-hot编码"
   ]
  },
  {
   "cell_type": "code",
   "execution_count": 17,
   "id": "8e6f8a6a",
   "metadata": {},
   "outputs": [],
   "source": [
    "dumm_dep = pd.get_dummies( df['Department'], prefix='Department' )\n",
    "dumm_bt = pd.get_dummies( df['BusinessTravel'], prefix='BusinessTravel' )\n",
    "dumm_ef = pd.get_dummies( df['EducationField'], prefix='EducationField' )\n",
    "dumm_jr = pd.get_dummies( df['JobRole'], prefix='JobRole' )\n",
    "dumm_ms = pd.get_dummies( df['MaritalStatus'], prefix='MaritalStatus' )\n",
    "dumm_ot = pd.get_dummies( df['OverTime'], prefix='OverTime' )"
   ]
  },
  {
   "cell_type": "code",
   "execution_count": 18,
   "id": "3a6e7f00",
   "metadata": {},
   "outputs": [],
   "source": [
    "#保存one-hot的数据\n",
    "train_one_hot = data.join([dumm_dep,dumm_bt,dumm_ef,dumm_jr,dumm_ms,dumm_ot], how='outer')"
   ]
  },
  {
   "cell_type": "code",
   "execution_count": 19,
   "id": "8eae2381",
   "metadata": {},
   "outputs": [],
   "source": [
    "train_one_hot['index'] = pd.Series(np.arange(1100))"
   ]
  },
  {
   "cell_type": "code",
   "execution_count": 20,
   "id": "c2a93fc3",
   "metadata": {},
   "outputs": [
    {
     "data": {
      "text/html": [
       "<div>\n",
       "<style scoped>\n",
       "    .dataframe tbody tr th:only-of-type {\n",
       "        vertical-align: middle;\n",
       "    }\n",
       "\n",
       "    .dataframe tbody tr th {\n",
       "        vertical-align: top;\n",
       "    }\n",
       "\n",
       "    .dataframe thead th {\n",
       "        text-align: right;\n",
       "    }\n",
       "</style>\n",
       "<table border=\"1\" class=\"dataframe\">\n",
       "  <thead>\n",
       "    <tr style=\"text-align: right;\">\n",
       "      <th></th>\n",
       "      <th>TotalWorkingYears</th>\n",
       "      <th>MonthlyIncome</th>\n",
       "      <th>JobLevel</th>\n",
       "      <th>Age</th>\n",
       "      <th>YearsAtCompany</th>\n",
       "      <th>YearsInCurrentRole</th>\n",
       "      <th>StockOptionLevel</th>\n",
       "      <th>YearsWithCurrManager</th>\n",
       "      <th>JobSatisfaction</th>\n",
       "      <th>JobInvolvement</th>\n",
       "      <th>...</th>\n",
       "      <th>JobRole_Research Director</th>\n",
       "      <th>JobRole_Research Scientist</th>\n",
       "      <th>JobRole_Sales Executive</th>\n",
       "      <th>JobRole_Sales Representative</th>\n",
       "      <th>MaritalStatus_Divorced</th>\n",
       "      <th>MaritalStatus_Married</th>\n",
       "      <th>MaritalStatus_Single</th>\n",
       "      <th>OverTime_No</th>\n",
       "      <th>OverTime_Yes</th>\n",
       "      <th>index</th>\n",
       "    </tr>\n",
       "  </thead>\n",
       "  <tbody>\n",
       "    <tr>\n",
       "      <th>1097</th>\n",
       "      <td>9</td>\n",
       "      <td>6334</td>\n",
       "      <td>2</td>\n",
       "      <td>37</td>\n",
       "      <td>1</td>\n",
       "      <td>0</td>\n",
       "      <td>2</td>\n",
       "      <td>0</td>\n",
       "      <td>3</td>\n",
       "      <td>2</td>\n",
       "      <td>...</td>\n",
       "      <td>0</td>\n",
       "      <td>0</td>\n",
       "      <td>1</td>\n",
       "      <td>0</td>\n",
       "      <td>1</td>\n",
       "      <td>0</td>\n",
       "      <td>0</td>\n",
       "      <td>1</td>\n",
       "      <td>0</td>\n",
       "      <td>1097</td>\n",
       "    </tr>\n",
       "    <tr>\n",
       "      <th>1098</th>\n",
       "      <td>1</td>\n",
       "      <td>2472</td>\n",
       "      <td>1</td>\n",
       "      <td>22</td>\n",
       "      <td>1</td>\n",
       "      <td>0</td>\n",
       "      <td>0</td>\n",
       "      <td>0</td>\n",
       "      <td>2</td>\n",
       "      <td>3</td>\n",
       "      <td>...</td>\n",
       "      <td>0</td>\n",
       "      <td>1</td>\n",
       "      <td>0</td>\n",
       "      <td>0</td>\n",
       "      <td>0</td>\n",
       "      <td>0</td>\n",
       "      <td>1</td>\n",
       "      <td>0</td>\n",
       "      <td>1</td>\n",
       "      <td>1098</td>\n",
       "    </tr>\n",
       "    <tr>\n",
       "      <th>1099</th>\n",
       "      <td>6</td>\n",
       "      <td>2042</td>\n",
       "      <td>1</td>\n",
       "      <td>26</td>\n",
       "      <td>3</td>\n",
       "      <td>2</td>\n",
       "      <td>1</td>\n",
       "      <td>2</td>\n",
       "      <td>1</td>\n",
       "      <td>3</td>\n",
       "      <td>...</td>\n",
       "      <td>0</td>\n",
       "      <td>1</td>\n",
       "      <td>0</td>\n",
       "      <td>0</td>\n",
       "      <td>0</td>\n",
       "      <td>1</td>\n",
       "      <td>0</td>\n",
       "      <td>0</td>\n",
       "      <td>1</td>\n",
       "      <td>1099</td>\n",
       "    </tr>\n",
       "  </tbody>\n",
       "</table>\n",
       "<p>3 rows × 40 columns</p>\n",
       "</div>"
      ],
      "text/plain": [
       "      TotalWorkingYears  MonthlyIncome  JobLevel  Age  YearsAtCompany  \\\n",
       "1097                  9           6334         2   37               1   \n",
       "1098                  1           2472         1   22               1   \n",
       "1099                  6           2042         1   26               3   \n",
       "\n",
       "      YearsInCurrentRole  StockOptionLevel  YearsWithCurrManager  \\\n",
       "1097                   0                 2                     0   \n",
       "1098                   0                 0                     0   \n",
       "1099                   2                 1                     2   \n",
       "\n",
       "      JobSatisfaction  JobInvolvement  ...  JobRole_Research Director  \\\n",
       "1097                3               2  ...                          0   \n",
       "1098                2               3  ...                          0   \n",
       "1099                1               3  ...                          0   \n",
       "\n",
       "      JobRole_Research Scientist  JobRole_Sales Executive  \\\n",
       "1097                           0                        1   \n",
       "1098                           1                        0   \n",
       "1099                           1                        0   \n",
       "\n",
       "      JobRole_Sales Representative  MaritalStatus_Divorced  \\\n",
       "1097                             0                       1   \n",
       "1098                             0                       0   \n",
       "1099                             0                       0   \n",
       "\n",
       "      MaritalStatus_Married  MaritalStatus_Single  OverTime_No  OverTime_Yes  \\\n",
       "1097                      0                     0            1             0   \n",
       "1098                      0                     1            0             1   \n",
       "1099                      1                     0            0             1   \n",
       "\n",
       "      index  \n",
       "1097   1097  \n",
       "1098   1098  \n",
       "1099   1099  \n",
       "\n",
       "[3 rows x 40 columns]"
      ]
     },
     "execution_count": 20,
     "metadata": {},
     "output_type": "execute_result"
    }
   ],
   "source": [
    "train_one_hot.tail(3)"
   ]
  },
  {
   "cell_type": "code",
   "execution_count": 21,
   "id": "68e2b3d9",
   "metadata": {},
   "outputs": [],
   "source": [
    "#数据：独热编码+十个连续变量（相关性最大的十个）+label\n",
    "train_one_hot.to_csv('train_one_hot.csv',index=False)"
   ]
  },
  {
   "cell_type": "markdown",
   "id": "4c1b2b4f",
   "metadata": {},
   "source": [
    "### 将PCA和ONE-HOT后的数据保存"
   ]
  },
  {
   "cell_type": "code",
   "execution_count": 25,
   "id": "8883bd32",
   "metadata": {},
   "outputs": [],
   "source": [
    "train_one_pca = train_one_hot.drop(['TotalWorkingYears', 'MonthlyIncome', 'JobLevel', 'Age',\n",
    "       'YearsAtCompany', 'YearsInCurrentRole', 'StockOptionLevel',\n",
    "       'YearsWithCurrManager', 'JobSatisfaction', 'JobInvolvement'],axis=1)"
   ]
  },
  {
   "cell_type": "code",
   "execution_count": 30,
   "id": "36afd34b",
   "metadata": {},
   "outputs": [
    {
     "data": {
      "text/html": [
       "<div>\n",
       "<style scoped>\n",
       "    .dataframe tbody tr th:only-of-type {\n",
       "        vertical-align: middle;\n",
       "    }\n",
       "\n",
       "    .dataframe tbody tr th {\n",
       "        vertical-align: top;\n",
       "    }\n",
       "\n",
       "    .dataframe thead th {\n",
       "        text-align: right;\n",
       "    }\n",
       "</style>\n",
       "<table border=\"1\" class=\"dataframe\">\n",
       "  <thead>\n",
       "    <tr style=\"text-align: right;\">\n",
       "      <th></th>\n",
       "      <th>Attrition</th>\n",
       "      <th>Income</th>\n",
       "      <th>Time</th>\n",
       "      <th>Department_Human Resources</th>\n",
       "      <th>Department_Research &amp; Development</th>\n",
       "      <th>Department_Sales</th>\n",
       "      <th>BusinessTravel_Non-Travel</th>\n",
       "      <th>BusinessTravel_Travel_Frequently</th>\n",
       "      <th>BusinessTravel_Travel_Rarely</th>\n",
       "      <th>EducationField_Human Resources</th>\n",
       "      <th>...</th>\n",
       "      <th>JobRole_Manufacturing Director</th>\n",
       "      <th>JobRole_Research Director</th>\n",
       "      <th>JobRole_Research Scientist</th>\n",
       "      <th>JobRole_Sales Executive</th>\n",
       "      <th>JobRole_Sales Representative</th>\n",
       "      <th>MaritalStatus_Divorced</th>\n",
       "      <th>MaritalStatus_Married</th>\n",
       "      <th>MaritalStatus_Single</th>\n",
       "      <th>OverTime_No</th>\n",
       "      <th>OverTime_Yes</th>\n",
       "    </tr>\n",
       "  </thead>\n",
       "  <tbody>\n",
       "    <tr>\n",
       "      <th>0</th>\n",
       "      <td>0</td>\n",
       "      <td>5933.07</td>\n",
       "      <td>37.49</td>\n",
       "      <td>0</td>\n",
       "      <td>1</td>\n",
       "      <td>0</td>\n",
       "      <td>0</td>\n",
       "      <td>0</td>\n",
       "      <td>1</td>\n",
       "      <td>0</td>\n",
       "      <td>...</td>\n",
       "      <td>1</td>\n",
       "      <td>0</td>\n",
       "      <td>0</td>\n",
       "      <td>0</td>\n",
       "      <td>0</td>\n",
       "      <td>1</td>\n",
       "      <td>0</td>\n",
       "      <td>0</td>\n",
       "      <td>1</td>\n",
       "      <td>0</td>\n",
       "    </tr>\n",
       "    <tr>\n",
       "      <th>1</th>\n",
       "      <td>0</td>\n",
       "      <td>10396.98</td>\n",
       "      <td>62.46</td>\n",
       "      <td>0</td>\n",
       "      <td>1</td>\n",
       "      <td>0</td>\n",
       "      <td>0</td>\n",
       "      <td>1</td>\n",
       "      <td>0</td>\n",
       "      <td>0</td>\n",
       "      <td>...</td>\n",
       "      <td>1</td>\n",
       "      <td>0</td>\n",
       "      <td>0</td>\n",
       "      <td>0</td>\n",
       "      <td>0</td>\n",
       "      <td>1</td>\n",
       "      <td>0</td>\n",
       "      <td>0</td>\n",
       "      <td>1</td>\n",
       "      <td>0</td>\n",
       "    </tr>\n",
       "    <tr>\n",
       "      <th>2</th>\n",
       "      <td>1</td>\n",
       "      <td>6013.26</td>\n",
       "      <td>36.48</td>\n",
       "      <td>0</td>\n",
       "      <td>1</td>\n",
       "      <td>0</td>\n",
       "      <td>0</td>\n",
       "      <td>1</td>\n",
       "      <td>0</td>\n",
       "      <td>0</td>\n",
       "      <td>...</td>\n",
       "      <td>0</td>\n",
       "      <td>0</td>\n",
       "      <td>0</td>\n",
       "      <td>0</td>\n",
       "      <td>0</td>\n",
       "      <td>0</td>\n",
       "      <td>0</td>\n",
       "      <td>1</td>\n",
       "      <td>0</td>\n",
       "      <td>1</td>\n",
       "    </tr>\n",
       "  </tbody>\n",
       "</table>\n",
       "<p>3 rows × 29 columns</p>\n",
       "</div>"
      ],
      "text/plain": [
       "   Attrition    Income   Time  Department_Human Resources  \\\n",
       "0          0   5933.07  37.49                           0   \n",
       "1          0  10396.98  62.46                           0   \n",
       "2          1   6013.26  36.48                           0   \n",
       "\n",
       "   Department_Research & Development  Department_Sales  \\\n",
       "0                                  1                 0   \n",
       "1                                  1                 0   \n",
       "2                                  1                 0   \n",
       "\n",
       "   BusinessTravel_Non-Travel  BusinessTravel_Travel_Frequently  \\\n",
       "0                          0                                 0   \n",
       "1                          0                                 1   \n",
       "2                          0                                 1   \n",
       "\n",
       "   BusinessTravel_Travel_Rarely  EducationField_Human Resources  ...  \\\n",
       "0                             1                               0  ...   \n",
       "1                             0                               0  ...   \n",
       "2                             0                               0  ...   \n",
       "\n",
       "   JobRole_Manufacturing Director  JobRole_Research Director  \\\n",
       "0                               1                          0   \n",
       "1                               1                          0   \n",
       "2                               0                          0   \n",
       "\n",
       "   JobRole_Research Scientist  JobRole_Sales Executive  \\\n",
       "0                           0                        0   \n",
       "1                           0                        0   \n",
       "2                           0                        0   \n",
       "\n",
       "   JobRole_Sales Representative  MaritalStatus_Divorced  \\\n",
       "0                             0                       1   \n",
       "1                             0                       1   \n",
       "2                             0                       0   \n",
       "\n",
       "   MaritalStatus_Married  MaritalStatus_Single  OverTime_No  OverTime_Yes  \n",
       "0                      0                     0            1             0  \n",
       "1                      0                     0            1             0  \n",
       "2                      0                     1            0             1  \n",
       "\n",
       "[3 rows x 29 columns]"
      ]
     },
     "execution_count": 30,
     "metadata": {},
     "output_type": "execute_result"
    }
   ],
   "source": [
    "train_one_pca.head(3)"
   ]
  },
  {
   "cell_type": "code",
   "execution_count": 28,
   "id": "970d39fb",
   "metadata": {},
   "outputs": [],
   "source": [
    "train_one_pca = train_one_pca.drop(['index'],axis=1)"
   ]
  },
  {
   "cell_type": "code",
   "execution_count": 29,
   "id": "f81dbbd4",
   "metadata": {},
   "outputs": [],
   "source": [
    "#数据：独热编码+两个主成分+label\n",
    "train_one_pca.to_csv('train_one_pca.csv',index=False)"
   ]
  },
  {
   "cell_type": "code",
   "execution_count": null,
   "id": "8b2fbd19",
   "metadata": {},
   "outputs": [],
   "source": []
  }
 ],
 "metadata": {
  "kernelspec": {
   "display_name": "Python 3 (ipykernel)",
   "language": "python",
   "name": "python3"
  },
  "language_info": {
   "codemirror_mode": {
    "name": "ipython",
    "version": 3
   },
   "file_extension": ".py",
   "mimetype": "text/x-python",
   "name": "python",
   "nbconvert_exporter": "python",
   "pygments_lexer": "ipython3",
   "version": "3.9.12"
  }
 },
 "nbformat": 4,
 "nbformat_minor": 5
}
