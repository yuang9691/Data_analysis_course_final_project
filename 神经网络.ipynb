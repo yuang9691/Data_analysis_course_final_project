{
 "cells": [
  {
   "cell_type": "code",
   "execution_count": 1,
   "id": "43fd4e21",
   "metadata": {},
   "outputs": [],
   "source": [
    "import pandas as pd\n",
    "import time"
   ]
  },
  {
   "cell_type": "code",
   "execution_count": 2,
   "id": "5bdbeb4f",
   "metadata": {},
   "outputs": [],
   "source": [
    "#读取员工离职预测数据\n",
    "data = pd.read_csv(r\"C:\\Users\\zhouy\\Desktop\\数据科学技术与应用\\员工离职预测训练赛\\pfm_train.csv\",delimiter=',')"
   ]
  },
  {
   "cell_type": "code",
   "execution_count": null,
   "id": "e5214a90",
   "metadata": {},
   "outputs": [],
   "source": [
    "data = data.drop(['Department','BusinessTravel','EducationField','JobRole',\"Gender\",\"MaritalStatus\",\"OverTime\"],axis=1)"
   ]
  },
  {
   "cell_type": "code",
   "execution_count": 3,
   "id": "f3351d2a",
   "metadata": {},
   "outputs": [],
   "source": [
    "#数据降维：剔除无关变量“EmployeeNumber”(员工号码)、“Over18”（年龄是否超过18）、“StandardHours”（标准工时）\n",
    "data = data.drop(['EmployeeNumber','Over18','StandardHours'],axis=1)"
   ]
  },
  {
   "cell_type": "code",
   "execution_count": null,
   "id": "5d949479",
   "metadata": {},
   "outputs": [],
   "source": [
    "data.head(3)"
   ]
  },
  {
   "cell_type": "code",
   "execution_count": null,
   "id": "cf47d961",
   "metadata": {},
   "outputs": [],
   "source": [
    "data.info()"
   ]
  },
  {
   "cell_type": "code",
   "execution_count": 4,
   "id": "55e1a765",
   "metadata": {},
   "outputs": [],
   "source": [
    "from sklearn.preprocessing import LabelEncoder\n",
    "T=LabelEncoder() #初始化\n",
    "data[\"BusinessTravel\"]=T.fit_transform(data[\"BusinessTravel\"])\n",
    "data[\"Department\"]=T.fit_transform(data[\"Department\"])\n",
    "data[\"EducationField\"]=T.fit_transform(data[\"EducationField\"])\n",
    "data[\"Gender\"]=T.fit_transform(data[\"Gender\"])\n",
    "data[\"JobRole\"]=T.fit_transform(data[\"JobRole\"])\n",
    "data[\"MaritalStatus\"]=T.fit_transform(data[\"MaritalStatus\"])\n",
    "data[\"OverTime\"]=T.fit_transform(data[\"OverTime\"])"
   ]
  },
  {
   "cell_type": "code",
   "execution_count": null,
   "id": "adda4011",
   "metadata": {},
   "outputs": [],
   "source": [
    "dumm_dep = pd.get_dummies( data['Department'], prefix='Department' )\n",
    "dumm_bt = pd.get_dummies( data['BusinessTravel'], prefix='BusinessTravel' )\n",
    "dumm_ef = pd.get_dummies( data['EducationField'], prefix='EducationField' )\n",
    "dumm_jr = pd.get_dummies( data['JobRole'], prefix='JobRole' )\n",
    "dumm_ms = pd.get_dummies( data['MaritalStatus'], prefix='MaritalStatus' )\n",
    "dumm_ot = pd.get_dummies( data['OverTime'], prefix='OverTime' )\n",
    "dumm_gd = pd.get_dummies( data['Gender'], prefix='Gender' )"
   ]
  },
  {
   "cell_type": "code",
   "execution_count": null,
   "id": "b28b702c",
   "metadata": {},
   "outputs": [],
   "source": [
    "#保存one-hot的数据\n",
    "data= data.join([dumm_dep,dumm_bt,dumm_ef,dumm_jr,dumm_ms,dumm_ot,dumm_gd], how='outer')"
   ]
  },
  {
   "cell_type": "code",
   "execution_count": 5,
   "id": "f9e66d62",
   "metadata": {},
   "outputs": [
    {
     "data": {
      "text/plain": [
       "0.8381818181818181"
      ]
     },
     "execution_count": 5,
     "metadata": {},
     "output_type": "execute_result"
    }
   ],
   "source": [
    "X = data.drop(['Attrition'], axis=1).values.astype(float)\n",
    "y = data['Attrition'].values.astype(int)\n",
    "\n",
    "#训练神经网络分类器模型\n",
    "from sklearn.neural_network import MLPClassifier\n",
    "#创建一个2层隐层，每层5个结点\n",
    "mlp = MLPClassifier(solver='sgd',alpha=1e-5,hidden_layer_sizes=(5,10), random_state=1)\n",
    "mlp.fit(X,y)\n",
    "\n",
    "mlp.score(X,y)"
   ]
  },
  {
   "cell_type": "markdown",
   "id": "04354e01",
   "metadata": {},
   "source": [
    "### 离职召回率为0？"
   ]
  },
  {
   "cell_type": "code",
   "execution_count": 6,
   "id": "747b8fb3",
   "metadata": {},
   "outputs": [
    {
     "name": "stdout",
     "output_type": "stream",
     "text": [
      "Classification report for MLPClassifier(alpha=1e-05, hidden_layer_sizes=(5, 10), random_state=1,\n",
      "              solver='sgd')\n",
      "              precision    recall  f1-score   support\n",
      "\n",
      "           0       0.84      1.00      0.91       922\n",
      "           1       0.00      0.00      0.00       178\n",
      "\n",
      "    accuracy                           0.84      1100\n",
      "   macro avg       0.42      0.50      0.46      1100\n",
      "weighted avg       0.70      0.84      0.76      1100\n",
      "\n",
      "Confusion matrix:\n",
      " [[922   0]\n",
      " [178   0]]\n"
     ]
    },
    {
     "name": "stderr",
     "output_type": "stream",
     "text": [
      "C:\\Users\\zhouy\\miniconda3\\lib\\site-packages\\sklearn\\metrics\\_classification.py:1318: UndefinedMetricWarning: Precision and F-score are ill-defined and being set to 0.0 in labels with no predicted samples. Use `zero_division` parameter to control this behavior.\n",
      "  _warn_prf(average, modifier, msg_start, len(result))\n",
      "C:\\Users\\zhouy\\miniconda3\\lib\\site-packages\\sklearn\\metrics\\_classification.py:1318: UndefinedMetricWarning: Precision and F-score are ill-defined and being set to 0.0 in labels with no predicted samples. Use `zero_division` parameter to control this behavior.\n",
      "  _warn_prf(average, modifier, msg_start, len(result))\n",
      "C:\\Users\\zhouy\\miniconda3\\lib\\site-packages\\sklearn\\metrics\\_classification.py:1318: UndefinedMetricWarning: Precision and F-score are ill-defined and being set to 0.0 in labels with no predicted samples. Use `zero_division` parameter to control this behavior.\n",
      "  _warn_prf(average, modifier, msg_start, len(result))\n"
     ]
    }
   ],
   "source": [
    "from sklearn import metrics\n",
    "y_predicted = mlp.predict(X)\n",
    "\n",
    "print(\"Classification report for %s\" % mlp)\n",
    "\n",
    "print(metrics.classification_report(y, y_predicted) )\n",
    "print( \"Confusion matrix:\\n\", metrics.confusion_matrix(y, y_predicted) )"
   ]
  },
  {
   "cell_type": "code",
   "execution_count": 7,
   "id": "55814f7b",
   "metadata": {},
   "outputs": [
    {
     "name": "stdout",
     "output_type": "stream",
     "text": [
      "Performance on training set: 0.8493506493506493\n",
      "Performance on test set: 0.8121212121212121\n"
     ]
    }
   ],
   "source": [
    "#在测试集上进行评价\n",
    "from sklearn import model_selection\n",
    "X_train, X_test, y_train, y_test = model_selection.train_test_split(X, y, test_size=0.30, random_state=1)\n",
    "mlp = MLPClassifier(solver='sgd',alpha=1e-5,hidden_layer_sizes=(5,5), random_state=1,activation='logistic')\n",
    "#clf = tree.DecisionTreeClassifier()\n",
    "mlp.fit(X_train, y_train)\n",
    "print(\"Performance on training set:\", mlp.score(X_train, y_train) )\n",
    "print(\"Performance on test set:\", mlp.score(X_test, y_test) )"
   ]
  },
  {
   "cell_type": "code",
   "execution_count": 8,
   "id": "a768f482",
   "metadata": {},
   "outputs": [
    {
     "name": "stdout",
     "output_type": "stream",
     "text": [
      "              precision    recall  f1-score   support\n",
      "\n",
      "           0       0.81      1.00      0.90       268\n",
      "           1       0.00      0.00      0.00        62\n",
      "\n",
      "    accuracy                           0.81       330\n",
      "   macro avg       0.41      0.50      0.45       330\n",
      "weighted avg       0.66      0.81      0.73       330\n",
      "\n"
     ]
    },
    {
     "name": "stderr",
     "output_type": "stream",
     "text": [
      "C:\\Users\\zhouy\\miniconda3\\lib\\site-packages\\sklearn\\metrics\\_classification.py:1318: UndefinedMetricWarning: Precision and F-score are ill-defined and being set to 0.0 in labels with no predicted samples. Use `zero_division` parameter to control this behavior.\n",
      "  _warn_prf(average, modifier, msg_start, len(result))\n",
      "C:\\Users\\zhouy\\miniconda3\\lib\\site-packages\\sklearn\\metrics\\_classification.py:1318: UndefinedMetricWarning: Precision and F-score are ill-defined and being set to 0.0 in labels with no predicted samples. Use `zero_division` parameter to control this behavior.\n",
      "  _warn_prf(average, modifier, msg_start, len(result))\n",
      "C:\\Users\\zhouy\\miniconda3\\lib\\site-packages\\sklearn\\metrics\\_classification.py:1318: UndefinedMetricWarning: Precision and F-score are ill-defined and being set to 0.0 in labels with no predicted samples. Use `zero_division` parameter to control this behavior.\n",
      "  _warn_prf(average, modifier, msg_start, len(result))\n"
     ]
    }
   ],
   "source": [
    "from sklearn.metrics import classification_report,confusion_matrix\n",
    "print(classification_report(y_test,mlp.predict(X_test)))"
   ]
  },
  {
   "cell_type": "code",
   "execution_count": 9,
   "id": "d32a62ba",
   "metadata": {},
   "outputs": [],
   "source": [
    "y_pred_test=mlp.predict(X_test)"
   ]
  },
  {
   "cell_type": "code",
   "execution_count": 10,
   "id": "d500e0ff",
   "metadata": {},
   "outputs": [
    {
     "name": "stdout",
     "output_type": "stream",
     "text": [
      "[[268   0]\n",
      " [ 62   0]]\n"
     ]
    }
   ],
   "source": [
    "from sklearn.metrics import classification_report,confusion_matrix\n",
    "confusion_matrix=confusion_matrix(y_test,y_pred_test)\n",
    "print(confusion_matrix)"
   ]
  },
  {
   "cell_type": "code",
   "execution_count": 11,
   "id": "d0a6b445",
   "metadata": {},
   "outputs": [],
   "source": [
    "from sklearn.metrics import roc_curve\n",
    "import matplotlib.pyplot as plt\n",
    "\n",
    "from sklearn.metrics import auc"
   ]
  },
  {
   "cell_type": "code",
   "execution_count": 12,
   "id": "102a4557",
   "metadata": {},
   "outputs": [
    {
     "data": {
      "image/png": "[encoded data removed]",
      "text/plain": [
       "<Figure size 640x480 with 1 Axes>"
      ]
     },
     "metadata": {},
     "output_type": "display_data"
    }
   ],
   "source": [
    "prob_predict_y_validation =mlp.predict_proba(X_test)\n",
    "predictions_validation = prob_predict_y_validation[:, 1]\n",
    "fpr, tpr, _ = roc_curve(y_test, predictions_validation)\n",
    "    #\n",
    "roc_auc = auc(fpr, tpr)\n",
    "plt.title('ROC Validation')\n",
    "plt.plot(fpr, tpr, 'b', label='AUC = %0.2f' % roc_auc)\n",
    "plt.legend(loc='lower right')\n",
    "plt.plot([0, 1], [0, 1], 'r--')\n",
    "plt.xlim([0, 1])\n",
    "plt.ylim([0, 1])\n",
    "plt.ylabel('True Positive Rate')\n",
    "plt.xlabel('False Positive Rate')\n",
    "plt.show()"
   ]
  },
  {
   "cell_type": "code",
   "execution_count": null,
   "id": "792108fd",
   "metadata": {},
   "outputs": [],
   "source": []
  }
 ],
 "metadata": {
  "kernelspec": {
   "display_name": "Python 3 (ipykernel)",
   "language": "python",
   "name": "python3"
  },
  "language_info": {
   "codemirror_mode": {
    "name": "ipython",
    "version": 3
   },
   "file_extension": ".py",
   "mimetype": "text/x-python",
   "name": "python",
   "nbconvert_exporter": "python",
   "pygments_lexer": "ipython3",
   "version": "3.9.12"
  }
 },
 "nbformat": 4,
 "nbformat_minor": 5
}
