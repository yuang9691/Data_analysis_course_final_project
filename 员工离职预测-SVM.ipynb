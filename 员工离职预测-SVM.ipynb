{
 "cells": [
  {
   "cell_type": "code",
   "execution_count": 1,
   "id": "0faf50ed",
   "metadata": {},
   "outputs": [],
   "source": [
    "import pandas as pd\n",
    "import numpy as np\n",
    "from sklearn import svm\n",
    "from sklearn import metrics"
   ]
  },
  {
   "cell_type": "code",
   "execution_count": 2,
   "id": "d924d796",
   "metadata": {},
   "outputs": [],
   "source": [
    "#train_one_pca中变量为：one-hot后的离散变量+pca后的两个连续变量+label变量\n",
    "data = pd.read_csv('train_one_pca.csv',delimiter=',')"
   ]
  },
  {
   "cell_type": "code",
   "execution_count": 3,
   "id": "3f36c165",
   "metadata": {},
   "outputs": [
    {
     "name": "stdout",
     "output_type": "stream",
     "text": [
      "X.shape (1100, 28)\n",
      "[[5.933070e+03 3.749000e+01 0.000000e+00 1.000000e+00 0.000000e+00\n",
      "  0.000000e+00 0.000000e+00 1.000000e+00 0.000000e+00 1.000000e+00\n",
      "  0.000000e+00 0.000000e+00 0.000000e+00 0.000000e+00 0.000000e+00\n",
      "  0.000000e+00 0.000000e+00 0.000000e+00 1.000000e+00 0.000000e+00\n",
      "  0.000000e+00 0.000000e+00 0.000000e+00 1.000000e+00 0.000000e+00\n",
      "  0.000000e+00 1.000000e+00 0.000000e+00]\n",
      " [1.039698e+04 6.246000e+01 0.000000e+00 1.000000e+00 0.000000e+00\n",
      "  0.000000e+00 1.000000e+00 0.000000e+00 0.000000e+00 1.000000e+00\n",
      "  0.000000e+00 0.000000e+00 0.000000e+00 0.000000e+00 0.000000e+00\n",
      "  0.000000e+00 0.000000e+00 0.000000e+00 1.000000e+00 0.000000e+00\n",
      "  0.000000e+00 0.000000e+00 0.000000e+00 1.000000e+00 0.000000e+00\n",
      "  0.000000e+00 1.000000e+00 0.000000e+00]]\n",
      "[0 0]\n"
     ]
    }
   ],
   "source": [
    "#准备训练输入变量\n",
    "X = data.drop(['Attrition'], axis=1).values.astype(float)\n",
    "y = data['Attrition'].values.astype(int)\n",
    "print(\"X.shape\", X.shape)\n",
    "print(X[0:2,:])\n",
    "print(y[0:2])"
   ]
  },
  {
   "cell_type": "code",
   "execution_count": null,
   "id": "2ace7900",
   "metadata": {},
   "outputs": [],
   "source": [
    "#训练模型，评价分类器性能\n",
    "clf = svm.SVC(kernel='rbf', gamma=0.6, C = 1.0)\n",
    "clf.fit(X, y)\n",
    "print( \"Accuracy：\",clf.score(X, y) )\n",
    "y_predicted = clf.predict(X)\n",
    "print( metrics.classification_report(y, y_predicted) )"
   ]
  },
  {
   "cell_type": "code",
   "execution_count": 4,
   "id": "d3fd1170",
   "metadata": {},
   "outputs": [],
   "source": [
    "#将数据集拆分为训练集和测试集，在测试集上查看分类效果\n",
    "from sklearn import model_selection\n",
    "from sklearn import svm\n",
    "X_train, X_test, y_train, y_test = model_selection.train_test_split(X, y, test_size=0.3, random_state=1)\n",
    "#clf = svm.SVC(kernel='poly', gamma=0.7, C = 1.0)\n",
    "#clf.fit(X_train, y_train)\n",
    "#print(\"Performance on training set:\", clf.score(X_train, y_train) )\n",
    "#print(\"Performance on test set:\", clf.score(X_test, y_test) )"
   ]
  },
  {
   "cell_type": "code",
   "execution_count": 11,
   "id": "6504be1c",
   "metadata": {},
   "outputs": [
    {
     "data": {
      "text/plain": [
       "SVC()"
      ]
     },
     "execution_count": 11,
     "metadata": {},
     "output_type": "execute_result"
    }
   ],
   "source": [
    "#对不同方差的数据标准化\n",
    "from sklearn import preprocessing\n",
    "X_scale = preprocessing.scale(X)\n",
    "\n",
    "#将标准化后的数据集拆分为训练集和测试集，在测试集上查看分类效果\n",
    "X_train, X_test, y_train, y_test = model_selection.train_test_split(X_scale, y, test_size=0.3, random_state=1)\n",
    "clf = svm.SVC(kernel='rbf')\n",
    "clf.fit(X_train, y_train)\n",
    "#clf.score(X_test, y_test)"
   ]
  },
  {
   "cell_type": "code",
   "execution_count": 12,
   "id": "5a67ce61",
   "metadata": {},
   "outputs": [
    {
     "name": "stdout",
     "output_type": "stream",
     "text": [
      "Classification report for SVC()\n",
      "              precision    recall  f1-score   support\n",
      "\n",
      "           0       0.82      0.99      0.90       268\n",
      "           1       0.71      0.08      0.14        62\n",
      "\n",
      "    accuracy                           0.82       330\n",
      "   macro avg       0.77      0.54      0.52       330\n",
      "weighted avg       0.80      0.82      0.76       330\n",
      "\n",
      "Confusion matrix:\n",
      " [[266   2]\n",
      " [ 57   5]]\n"
     ]
    }
   ],
   "source": [
    "#查看在测试集上混淆矩阵，Precision、Recall和F1\n",
    "from sklearn import metrics\n",
    "\n",
    "y_predicted = clf.predict(X_test)\n",
    "print(\"Classification report for %s\" % clf)\n",
    "\n",
    "print (metrics.classification_report(y_test, y_predicted) )\n",
    "print( \"Confusion matrix:\\n\", metrics.confusion_matrix(y_test, y_predicted) )"
   ]
  },
  {
   "cell_type": "code",
   "execution_count": 8,
   "id": "08ad7967",
   "metadata": {},
   "outputs": [],
   "source": [
    "#10折交叉验证\n",
    "import matplotlib.pyplot as plt\n",
    "from sklearn.model_selection import cross_val_score\n",
    "kernel_range = ['rbf','poly','sigmoid']\n",
    "k_scores = []\n",
    "\n",
    "for k in kernel_range:\n",
    "    clf = svm.SVC(kernel=k)\n",
    "    scores = cross_val_score(clf,X_train,y_train,cv=10,scoring='accuracy')\n",
    "    k_scores.append(scores.mean())"
   ]
  },
  {
   "cell_type": "code",
   "execution_count": 9,
   "id": "631799e8",
   "metadata": {},
   "outputs": [
    {
     "data": {
      "text/plain": [
       "[0.8558441558441559, 0.8532467532467531, 0.8467532467532468]"
      ]
     },
     "execution_count": 9,
     "metadata": {},
     "output_type": "execute_result"
    }
   ],
   "source": [
    "#各模型结果\n",
    "k_scores"
   ]
  },
  {
   "cell_type": "markdown",
   "id": "0f15a884",
   "metadata": {},
   "source": [
    "### 调参调不动，电脑跑不动"
   ]
  },
  {
   "cell_type": "code",
   "execution_count": null,
   "id": "79a71c1e",
   "metadata": {},
   "outputs": [],
   "source": [
    "#调参数\n",
    "\n",
    "#C:软间隔的松弛因子，取值0-无穷，小表示容忍更多分类错误使得间隔越大\n",
    "#kernel：核函数\n",
    "#gamma:高斯核函数的超参数，，越大越容易过拟合\n",
    "\n",
    "from sklearn.model_selection import GridSearchCV,cross_val_score  #导入网格搜索和交叉验证类\n",
    "from sklearn.svm import SVC\n",
    "tund_para=[{\"kernel\":[\"poly\"],\"gamma\":[1,0.1,0.01,0.001],\"C\":[1,10,100,1000],\"degree\":[2,3,4]}]\n",
    "\n",
    "clf=GridSearchCV(estimator=SVC(),param_grid=tund_para,cv=5,scoring=\"accuracy\")\n",
    "clf.fit(X_train,y_train)\n",
    "print(clf.score(X_test,y_test))"
   ]
  },
  {
   "cell_type": "code",
   "execution_count": null,
   "id": "05825ab7",
   "metadata": {},
   "outputs": [],
   "source": [
    "#通过网格搜索得到最好的模型\n",
    "print(clf.best_score_)\n",
    "print(clf.best_params_)\n",
    "print(clf.best_estimator_)"
   ]
  }
 ],
 "metadata": {
  "kernelspec": {
   "display_name": "Python 3 (ipykernel)",
   "language": "python",
   "name": "python3"
  },
  "language_info": {
   "codemirror_mode": {
    "name": "ipython",
    "version": 3
   },
   "file_extension": ".py",
   "mimetype": "text/x-python",
   "name": "python",
   "nbconvert_exporter": "python",
   "pygments_lexer": "ipython3",
   "version": "3.9.12"
  }
 },
 "nbformat": 4,
 "nbformat_minor": 5
}
